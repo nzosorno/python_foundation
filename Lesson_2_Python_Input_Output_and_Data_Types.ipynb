{
  "nbformat": 4,
  "nbformat_minor": 0,
  "metadata": {
    "colab": {
      "provenance": [],
      "include_colab_link": true
    },
    "kernelspec": {
      "name": "python3",
      "display_name": "Python 3"
    },
    "language_info": {
      "name": "python"
    }
  },
  "cells": [
    {
      "cell_type": "markdown",
      "metadata": {
        "id": "view-in-github",
        "colab_type": "text"
      },
      "source": [
        "<a href=\"https://colab.research.google.com/github/nzosorno/python_foundation/blob/main/Lesson_2_Python_Input_Output_and_Data_Types.ipynb\" target=\"_parent\"><img src=\"https://colab.research.google.com/assets/colab-badge.svg\" alt=\"Open In Colab\"/></a>"
      ]
    },
    {
      "cell_type": "markdown",
      "source": [
        "# **Output in Python a.k.a print()**"
      ],
      "metadata": {
        "id": "auyIHiz95d6_"
      }
    },
    {
      "cell_type": "code",
      "source": [
        "print('Hello Redi School')"
      ],
      "metadata": {
        "colab": {
          "base_uri": "https://localhost:8080/"
        },
        "id": "WSpWcMSs3-lq",
        "outputId": "629479b8-3c4f-48f5-907c-0412d5709c7e"
      },
      "execution_count": null,
      "outputs": [
        {
          "output_type": "stream",
          "name": "stdout",
          "text": [
            "Hello Redi School\n"
          ]
        }
      ]
    },
    {
      "cell_type": "markdown",
      "source": [
        "print(object= separator= end= file= flush=)\n",
        "\n",
        "- object - value(s) to be printed\n",
        "- sep (optional) - allows us to separate multiple objects inside print().\n",
        "- end (optional) - allows us to add add specific values like new line \"\\n\", tab \"\\t\"\n"
      ],
      "metadata": {
        "id": "297OD7Tx4pln"
      }
    },
    {
      "cell_type": "code",
      "source": [
        "print('Good Morning!')\n",
        "print('It is rainy today')"
      ],
      "metadata": {
        "colab": {
          "base_uri": "https://localhost:8080/"
        },
        "id": "DiG8s2VF48y_",
        "outputId": "3f53e242-919d-45fd-846e-b61cbfab37ea"
      },
      "execution_count": null,
      "outputs": [
        {
          "output_type": "stream",
          "name": "stdout",
          "text": [
            "Good Morning!\n",
            "It is rainy today\n"
          ]
        }
      ]
    },
    {
      "cell_type": "code",
      "source": [
        "# print with end whitespace\n",
        "print('Good Morning!', end= ' ')\n",
        "\n",
        "print('It is rainy today')"
      ],
      "metadata": {
        "colab": {
          "base_uri": "https://localhost:8080/"
        },
        "id": "JrGtijhY5Buz",
        "outputId": "18ebe7e2-4068-4abc-b5b4-bd75c788b0aa"
      },
      "execution_count": null,
      "outputs": [
        {
          "output_type": "stream",
          "name": "stdout",
          "text": [
            "Good Morning! It is rainy today\n"
          ]
        }
      ]
    },
    {
      "cell_type": "code",
      "source": [
        "# print with sep= '. '\n",
        "print('New Year', 2024, 'See you soon!', sep= '. ')"
      ],
      "metadata": {
        "colab": {
          "base_uri": "https://localhost:8080/"
        },
        "id": "9TZJZg4E5POh",
        "outputId": "636d22a0-3505-4be8-aa28-55c89917e2b2"
      },
      "execution_count": null,
      "outputs": [
        {
          "output_type": "stream",
          "name": "stdout",
          "text": [
            "New Year. 2024. See you soon!\n"
          ]
        }
      ]
    },
    {
      "cell_type": "code",
      "source": [
        "n = 300\n",
        "m = n\n",
        "n = 500\n",
        "print(m - n)\n",
        "\n",
        "x = y = z = 300"
      ],
      "metadata": {
        "colab": {
          "base_uri": "https://localhost:8080/"
        },
        "id": "qNJNScOyQTn3",
        "outputId": "f9aa4301-cf8e-4208-a57b-fc863b84508a"
      },
      "execution_count": null,
      "outputs": [
        {
          "output_type": "stream",
          "name": "stdout",
          "text": [
            "-200\n"
          ]
        }
      ]
    },
    {
      "cell_type": "markdown",
      "source": [
        "# **Input in Python a.k.a input()**"
      ],
      "metadata": {
        "id": "sxy07dSU5tk9"
      }
    },
    {
      "cell_type": "code",
      "execution_count": null,
      "metadata": {
        "colab": {
          "base_uri": "https://localhost:8080/"
        },
        "id": "c0QbB9Ej1c9Q",
        "outputId": "412c0b79-42c9-414a-b193-6ddab8437667"
      },
      "outputs": [
        {
          "output_type": "stream",
          "name": "stdout",
          "text": [
            "Enter your age: 31\n",
            "Your age is: 31\n",
            "Data type of num: <class 'str'>\n"
          ]
        }
      ],
      "source": [
        "# using input() to take user input\n",
        "age = input('Enter your age: ')\n",
        "\n",
        "print('Your age is:', age)\n",
        "\n",
        "print('Data type of num:', type(age))"
      ]
    },
    {
      "cell_type": "markdown",
      "source": [
        "# Data types:"
      ],
      "metadata": {
        "id": "CnQOFQYK65I2"
      }
    },
    {
      "cell_type": "markdown",
      "source": [
        "Exercise: Exponential calculation\n",
        "Write a program that takes an input x as integer from the user and run the following calculation: x³\n",
        "\n",
        "Print the result for x³"
      ],
      "metadata": {
        "id": "1kdU9XZm6-4a"
      }
    },
    {
      "cell_type": "code",
      "source": [
        "x = int(input('Enter a number '))\n",
        "print(x * x * x)"
      ],
      "metadata": {
        "colab": {
          "base_uri": "https://localhost:8080/"
        },
        "id": "xjX9S-Rb69_-",
        "outputId": "30709a07-1e3c-4b6e-d77e-f5e0172cd430"
      },
      "execution_count": null,
      "outputs": [
        {
          "output_type": "stream",
          "name": "stdout",
          "text": [
            "Enter a number3\n",
            "27\n"
          ]
        }
      ]
    },
    {
      "cell_type": "markdown",
      "source": [
        "Practicing Data types\n"
      ],
      "metadata": {
        "id": "cAS9fMhjZgcB"
      }
    },
    {
      "cell_type": "code",
      "source": [
        "this_is_a_variable = 56\n",
        "ThisIsA"
      ],
      "metadata": {
        "id": "PfiqP9znZcRd"
      },
      "execution_count": null,
      "outputs": []
    },
    {
      "cell_type": "markdown",
      "source": [
        "###Exercise: BMI Calculator\n",
        "Write a program that calculates the BMI (Body Mass Index) for the user. Ask the user to provide his/her weight (kg) and height (cm).\n",
        "\n",
        "How to calculate BMI:\n",
        "\n",
        "BMI = weight_kg / (height_cm/100)²\n",
        "\n",
        "Print the result as follows: print(f\"Your BMI is {BMI}\")"
      ],
      "metadata": {
        "id": "_rWxCa9p1cau"
      }
    },
    {
      "cell_type": "code",
      "source": [],
      "metadata": {
        "id": "E7aCSP3GYVys"
      },
      "execution_count": null,
      "outputs": []
    },
    {
      "cell_type": "markdown",
      "source": [
        "Exercise: Multiple inputs and string concatenation\n",
        "Write a program with two inputs, that ask the user for\n",
        "\n",
        "his/her first name\n",
        "his/her last name\n",
        "Print the two inputs as a concatenated string, e.g.: \"Your name is Ben Hanson\""
      ],
      "metadata": {
        "id": "V0lk1F4GYTQf"
      }
    },
    {
      "cell_type": "code",
      "source": [],
      "metadata": {
        "id": "PphBoVrkApuW"
      },
      "execution_count": null,
      "outputs": []
    }
  ]
}